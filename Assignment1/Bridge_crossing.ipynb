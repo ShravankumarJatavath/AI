{
 "cells": [
  {
   "cell_type": "markdown",
   "id": "ec38a575-c088-4750-993d-37f0ff2230b9",
   "metadata": {},
   "source": [
    "                bridge and torch"
   ]
  },
  {
   "cell_type": "markdown",
   "id": "4d2643f8-a3cc-44c1-a06e-a7165342b119",
   "metadata": {},
   "source": [
    "Amogh = 5 min,Ameya = 10 min\n",
    "Grandmother=20 min,Grandfather=25 min\n",
    "Only 1 umbrella; max 2 people at a time\n",
    "Time limit: ≤ 60 minutes\n",
    "When two cross together the time taken = slower person time."
   ]
  },
  {
   "cell_type": "code",
   "execution_count": 1,
   "id": "ffee6d03-b758-485b-aadc-78aca63c7352",
   "metadata": {},
   "outputs": [
    {
     "name": "stdout",
     "output_type": "stream",
     "text": [
      "Total Time Taken: 60 minutes\n",
      "\n",
      "Step 1: Amogh and Ameya cross → 10 min\n",
      "Step 2: Amogh returns → 5 min\n",
      "Step 3: Grandparents cross → 25 min\n",
      "Step 4: Ameya returns → 10 min\n",
      "Step 5: Amogh and Ameya cross again → 10 min\n",
      "\n",
      "They made it on time\n"
     ]
    }
   ],
   "source": [
    "def bridge_crossing():\n",
    "    time = 0\n",
    "    steps = []\n",
    "\n",
    "    # Step1: Amogh and Ameya cross\n",
    "    time += 10\n",
    "    steps.append(\"Step 1: Amogh and Ameya cross 10 min\")\n",
    "\n",
    "    # Step2: Amogh returns\n",
    "    time += 5\n",
    "    steps.append(\"Step 2: Amogh returns 5 min\")\n",
    "\n",
    "    # Step3: Grandmother and Grandfather cross\n",
    "    time += 25\n",
    "    steps.append(\"Step 3: Grandparents cross 25 min\")\n",
    "\n",
    "    # Step4: Ameya returns\n",
    "    time += 10\n",
    "    steps.append(\"Step 4: Ameya returns  10 min\")\n",
    "\n",
    "    # Step5: Amogh and Ameya cross again\n",
    "    time += 10\n",
    "    steps.append(\"Step 5: Amogh and Ameya cross again  10 min\")\n",
    "\n",
    "    print(\"Total Time Taken:\", time, \"minutes\\n\")\n",
    "    for step in steps:\n",
    "        print(step)\n",
    "\n",
    "    if time <= 60:\n",
    "        print(\"\\nThey made it on time\")\n",
    "    else:\n",
    "        print(\"\\n They couldnot make it\")\n",
    "        \n",
    "bridge_crossing()\n"
   ]
  },
  {
   "cell_type": "code",
   "execution_count": null,
   "id": "e2d1f9ab-21b3-4147-a466-dc60b66be7fa",
   "metadata": {},
   "outputs": [],
   "source": []
  },
  {
   "cell_type": "code",
   "execution_count": null,
   "id": "85b83e85-a611-4774-8b11-3cba644e967f",
   "metadata": {},
   "outputs": [],
   "source": []
  },
  {
   "cell_type": "code",
   "execution_count": null,
   "id": "cd42f0e5-ec9f-42db-ab1c-081ca21059e3",
   "metadata": {},
   "outputs": [],
   "source": []
  },
  {
   "cell_type": "code",
   "execution_count": null,
   "id": "ce33dadb-cb7a-4691-9745-0fe8188e8bc0",
   "metadata": {},
   "outputs": [],
   "source": []
  }
 ],
 "metadata": {
  "kernelspec": {
   "display_name": "Python 3 (ipykernel)",
   "language": "python",
   "name": "python3"
  },
  "language_info": {
   "codemirror_mode": {
    "name": "ipython",
    "version": 3
   },
   "file_extension": ".py",
   "mimetype": "text/x-python",
   "name": "python",
   "nbconvert_exporter": "python",
   "pygments_lexer": "ipython3",
   "version": "3.10.12"
  }
 },
 "nbformat": 4,
 "nbformat_minor": 5
}
