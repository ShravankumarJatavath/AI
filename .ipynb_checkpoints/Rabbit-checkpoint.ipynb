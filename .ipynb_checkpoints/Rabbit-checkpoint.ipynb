{
 "cells": [
  {
   "cell_type": "markdown",
   "id": "23ff98a6-2444-49e0-9ca0-fa9d32627dc6",
   "metadata": {},
   "source": [
    "                      RABBIT QUESTION "
   ]
  },
  {
   "cell_type": "markdown",
   "id": "6fcd0f6b-0a69-4e9c-ba21-6841c2e06493",
   "metadata": {},
   "source": [
    "    There are 3 rabbits moving east (E) and 3 rabbits moving west (W). They are on 7 stones in a row. One stone is empty."
   ]
  },
  {
   "cell_type": "markdown",
   "id": "68c3c85e-64c3-4ce3-adbb-372461ccfee6",
   "metadata": {},
   "source": [
    "    Rules:\n",
    "\n",
    "A rabbit can move 1 step forward.\n",
    "A rabbit can jump over 1 rabbit to land on an empty stone.\n",
    "They cannot move backward or jump over 2 rabbits."
   ]
  },
  {
   "cell_type": "markdown",
   "id": "055c2cee-f86a-4e3c-89a3-c36379f0ba0c",
   "metadata": {},
   "source": [
    "            I will solve throught the  Breadth First Search (BFS) "
   ]
  },
  {
   "cell_type": "code",
   "execution_count": 2,
   "id": "dcba4ebc-621c-4bc1-8c3d-f785e1bbabca",
   "metadata": {},
   "outputs": [],
   "source": [
    "#define the initial and the goal state\n",
    "\n",
    "initial_state = ['E', 'E', 'E', '_', 'W', 'W', 'W']\n",
    "goal_state = ['W', 'W', 'W', '_', 'E', 'E', 'E']"
   ]
  },
  {
   "cell_type": "code",
   "execution_count": 3,
   "id": "2c3f94fe-f4d7-42b4-ba06-462371e0749e",
   "metadata": {},
   "outputs": [],
   "source": [
    "#check the goal state\n",
    "def is_goal(state):\n",
    "    return state == goal_state"
   ]
  },
  {
   "cell_type": "code",
   "execution_count": 12,
   "id": "22e82180-9900-4a3f-b4e7-e52f00b05517",
   "metadata": {},
   "outputs": [],
   "source": [
    "def get_next_states(state):\n",
    "    next_states = []\n",
    "    empty = state.index('_')\n",
    "\n",
    "    #possible ways\n",
    "    moves = [-1, -2, 1, 2]\n",
    "\n",
    "    for move in moves:\n",
    "        new_index = empty + move\n",
    "        if 0 <= new_index < len(state):\n",
    "            if move == -1 and state[new_index] == 'E':\n",
    "              \n",
    "                new_state = state.copy()\n",
    "                new_state[empty], new_state[new_index] = new_state[new_index], new_state[empty]\n",
    "                next_states.append(new_state)\n",
    "            elif move == -2 and state[new_index] == 'E' and state[empty - 1] == 'W':\n",
    "               \n",
    "                new_state = state.copy()\n",
    "                new_state[empty], new_state[new_index] = new_state[new_index], new_state[empty]\n",
    "                next_states.append(new_state)\n",
    "            elif move == 1 and state[new_index] == 'W':\n",
    "               \n",
    "                new_state = state.copy()\n",
    "                new_state[empty], new_state[new_index] = new_state[new_index], new_state[empty]\n",
    "                next_states.append(new_state)\n",
    "            elif move == 2 and state[new_index] == 'W' and state[empty + 1] == 'E':\n",
    "                \n",
    "                new_state = state.copy()\n",
    "                new_state[empty], new_state[new_index] = new_state[new_index], new_state[empty]\n",
    "                next_states.append(new_state)\n",
    "    return next_states\n"
   ]
  },
  {
   "cell_type": "code",
   "execution_count": 13,
   "id": "d8d345cc-cbae-4540-9619-52c5057e27f1",
   "metadata": {},
   "outputs": [],
   "source": [
    "def bfs(start):\n",
    "    visited = []\n",
    "    queue = [[start]]\n",
    "\n",
    "    while queue:\n",
    "        path = queue.pop(0)\n",
    "        current = path[-1]\n",
    "\n",
    "        if current in visited:\n",
    "            continue\n",
    "\n",
    "        visited.append(current)\n",
    "\n",
    "        if is_goal(current):\n",
    "            return path  \n",
    "\n",
    "        next_states = get_next_states(current)\n",
    "\n",
    "        for state in next_states:\n",
    "            new_path = path + [state]\n",
    "            queue.append(new_path)\n",
    "\n",
    "    return None \n"
   ]
  },
  {
   "cell_type": "code",
   "execution_count": 15,
   "id": "3df77cee-64a4-4c60-9f5c-f0fbdd2e97b2",
   "metadata": {},
   "outputs": [
    {
     "name": "stdout",
     "output_type": "stream",
     "text": [
      "one by one steps\n",
      "\n",
      "['E', 'E', 'E', '_', 'W', 'W', 'W']\n",
      "['E', 'E', '_', 'E', 'W', 'W', 'W']\n",
      "['E', 'E', 'W', 'E', '_', 'W', 'W']\n",
      "['E', 'E', 'W', 'E', 'W', '_', 'W']\n",
      "['E', 'E', 'W', '_', 'W', 'E', 'W']\n",
      "['E', '_', 'W', 'E', 'W', 'E', 'W']\n",
      "['_', 'E', 'W', 'E', 'W', 'E', 'W']\n",
      "['W', 'E', '_', 'E', 'W', 'E', 'W']\n",
      "['W', 'E', 'W', 'E', '_', 'E', 'W']\n",
      "['W', 'E', 'W', 'E', 'W', 'E', '_']\n",
      "['W', 'E', 'W', 'E', 'W', '_', 'E']\n",
      "['W', 'E', 'W', '_', 'W', 'E', 'E']\n",
      "['W', '_', 'W', 'E', 'W', 'E', 'E']\n",
      "['W', 'W', '_', 'E', 'W', 'E', 'E']\n",
      "['W', 'W', 'W', 'E', '_', 'E', 'E']\n",
      "['W', 'W', 'W', '_', 'E', 'E', 'E']\n"
     ]
    }
   ],
   "source": [
    "#run the code \n",
    "solution = bfs(initial_state)\n",
    "\n",
    "print(\"one by one steps\\n\")\n",
    "for step in solution:\n",
    "    print(step)\n"
   ]
  },
  {
   "cell_type": "code",
   "execution_count": null,
   "id": "39ca13dd-cab2-4f0d-95ae-dacdbc5fd45c",
   "metadata": {},
   "outputs": [],
   "source": []
  },
  {
   "cell_type": "code",
   "execution_count": null,
   "id": "60a8bac1-e2c6-4e5d-9ce1-947726cc3688",
   "metadata": {},
   "outputs": [],
   "source": [
    "\n"
   ]
  },
  {
   "cell_type": "code",
   "execution_count": null,
   "id": "5d3098a9-72d4-40b6-8270-b514d0413a48",
   "metadata": {},
   "outputs": [],
   "source": []
  }
 ],
 "metadata": {
  "kernelspec": {
   "display_name": "Python 3 (ipykernel)",
   "language": "python",
   "name": "python3"
  },
  "language_info": {
   "codemirror_mode": {
    "name": "ipython",
    "version": 3
   },
   "file_extension": ".py",
   "mimetype": "text/x-python",
   "name": "python",
   "nbconvert_exporter": "python",
   "pygments_lexer": "ipython3",
   "version": "3.10.12"
  }
 },
 "nbformat": 4,
 "nbformat_minor": 5
}
