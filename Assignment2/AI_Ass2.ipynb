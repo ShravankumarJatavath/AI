{
 "cells": [
  {
   "cell_type": "markdown",
   "id": "4bc0b7b9-bf5c-402b-af43-c71f71169015",
   "metadata": {},
   "source": [
    "AI Assignment 2:finding path in Binary Grid"
   ]
  },
  {
   "cell_type": "markdown",
   "id": "7a2616a2-8218-41c8-8350-63519c1f5eba",
   "metadata": {},
   "source": [
    "This project implements and compares two search algorithms (Best-First Search and A* Search) to find paths through an n×n binary grid from the top-left corner (0,0) to the bottom-right corner (n-1,n-1)."
   ]
  },
  {
   "cell_type": "markdown",
   "id": "1c565e51-a744-4419-8a1c-0872ac5be0e6",
   "metadata": {},
   "source": [
    "Algorithms Implemented"
   ]
  },
  {
   "cell_type": "markdown",
   "id": "7d911521-0632-4311-b6c5-dc7bc13e1a8f",
   "metadata": {},
   "source": [
    "1. Best-First Search (Greedy Search)\n",
    "   \n",
    "Uses Manhattan distance heuristic\n",
    "Prioritizes nodes that appear closer to the goal\n",
    "May not always find the shortest path\n",
    "Time complexity: O(n²) in worst case"
   ]
  },
  {
   "cell_type": "code",
   "execution_count": null,
   "id": "8df14acd-18f2-4ec2-84e3-3028ef70c726",
   "metadata": {},
   "outputs": [],
   "source": [
    "2. A* Search\n",
    "\n",
    "Uses Manhattan distance heuristic plus path cost\n",
    "Guaranteed to find the shortest path when heuristic is admissible\n",
    "More efficient than BFS for pathfinding\n",
    "Time complexity: O(n²) in worst case"
   ]
  },
  {
   "cell_type": "code",
   "execution_count": 2,
   "id": "71f0eaf4-543f-4056-943b-a8ce5aa6839d",
   "metadata": {},
   "outputs": [
    {
     "name": "stdout",
     "output_type": "stream",
     "text": [
      "Example 1:\n",
      "Input: [[0, 1], [1, 0]]\n",
      "Best First Search → Path length: 2 Path: [(0, 0), (1, 1)]\n",
      "A* Search → Path length: 2 Path: [(0, 0), (1, 1)]\n",
      "\n",
      "Example 2:\n",
      "Input: [[0, 0, 0], [1, 1, 0], [1, 1, 0]]\n",
      "Best First Search → Path length: 4 Path: [(0, 0), (0, 1), (1, 2), (2, 2)]\n",
      "A* Search → Path length: 4 Path: [(0, 0), (0, 1), (1, 2), (2, 2)]\n",
      "\n",
      "Example 3:\n",
      "Input: [[1, 0, 0], [1, 1, 0], [1, 1, 0]]\n",
      "Best First Search → Path length: -1 Path: []\n",
      "A* Search → Path length: -1 Path: []\n",
      "\n"
     ]
    }
   ],
   "source": [
    "def best_first_search(grid):\n",
    "    n = len(grid)\n",
    "    if grid[0][0] != 0 or grid[n-1][n-1] != 0:\n",
    "        return -1, []\n",
    "    \n",
    "    directions = [(0,1),(1,0),(0,-1),(-1,0),(1,1),(-1,-1),(1,-1),(-1,1)]\n",
    "    visited = set()\n",
    "    heap = []\n",
    "    heap.append((abs(n-1) + abs(n-1), 0, 0, [(0,0)]))\n",
    "    visited.add((0,0))\n",
    "    \n",
    "    while heap:\n",
    "        heap.sort()\n",
    "        _, x, y, path = heap.pop(0)\n",
    "        if x == n-1 and y == n-1:\n",
    "            return len(path), path\n",
    "        \n",
    "        for dx, dy in directions:\n",
    "            nx, ny = x + dx, y + dy\n",
    "            if 0 <= nx < n and 0 <= ny < n and grid[nx][ny] == 0 and (nx, ny) not in visited:\n",
    "                visited.add((nx, ny))\n",
    "                new_path = path + [(nx, ny)]\n",
    "                heuristic = abs(n-1 - nx) + abs(n-1 - ny)\n",
    "                heap.append((heuristic, nx, ny, new_path))\n",
    "    \n",
    "    return -1, []\n",
    "\n",
    "def a_star_search(grid):\n",
    "    n = len(grid)\n",
    "    if grid[0][0] != 0 or grid[n-1][n-1] != 0:\n",
    "        return -1, []\n",
    "    \n",
    "    directions = [(0,1),(1,0),(0,-1),(-1,0),(1,1),(-1,-1),(1,-1),(-1,1)]\n",
    "    visited = set()\n",
    "    heap = []\n",
    "    heap.append((abs(n-1) + abs(n-1), 0, 0, 0, [(0,0)]))\n",
    "    visited.add((0,0))\n",
    "    \n",
    "    while heap:\n",
    "        heap.sort()\n",
    "        _, cost, x, y, path = heap.pop(0)\n",
    "        if x == n-1 and y == n-1:\n",
    "            return len(path), path\n",
    "        \n",
    "        for dx, dy in directions:\n",
    "            nx, ny = x + dx, y + dy\n",
    "            if 0 <= nx < n and 0 <= ny < n and grid[nx][ny] == 0 and (nx, ny) not in visited:\n",
    "                visited.add((nx, ny))\n",
    "                new_path = path + [(nx, ny)]\n",
    "                new_cost = cost + 1\n",
    "                heuristic = abs(n-1 - nx) + abs(n-1 - ny)\n",
    "                total = new_cost + heuristic\n",
    "                heap.append((total, new_cost, nx, ny, new_path))\n",
    "    \n",
    "    return -1, []\n",
    "\n",
    "def main():\n",
    "    test_cases = [\n",
    "        [[0, 1], [1, 0]],\n",
    "        [[0, 0, 0], [1, 1, 0], [1, 1, 0]],\n",
    "        [[1, 0, 0], [1, 1, 0], [1, 1, 0]]\n",
    "    ]\n",
    "    \n",
    "    for i, grid in enumerate(test_cases):\n",
    "        print(f\"Example {i+1}:\")\n",
    "        print(\"Input:\", grid)\n",
    "        \n",
    "        bfs_length, bfs_path = best_first_search(grid)\n",
    "        astar_length, astar_path = a_star_search(grid)\n",
    "        \n",
    "        print(\"Best First Search → Path length:\", bfs_length, \"Path:\", bfs_path)\n",
    "        print(\"A* Search → Path length:\", astar_length, \"Path:\", astar_path)\n",
    "        print()\n",
    "\n",
    "if __name__ == \"__main__\":\n",
    "    main()"
   ]
  },
  {
   "cell_type": "markdown",
   "id": "7c3812ef-1dfd-4760-8fe0-bd738218db66",
   "metadata": {},
   "source": [
    "Comparing the Algorithm"
   ]
  },
  {
   "cell_type": "markdown",
   "id": "691d1e14-5c07-49e8-aafa-98c853d07b5c",
   "metadata": {},
   "source": [
    ".Best-First Search uses only a heuristic function to guide the search, which makes it faster but doesn't guarantee the shortest path. A* Search combines the actual path cost with the heuristic, ensuring optimality while maintaining good performance. For these test cases, both algorithms found the same paths, but in more complex mazes, A* would consistently find shorter paths while Best-First Search might find longer ones.\n",
    "\n",
    ".The main difference is that A* considers both the cost to reach a node and the estimated cost to the goal, while Best-First Search only considers the estimated cost to the goal. This makes A* more reliable for finding optimal paths."
   ]
  },
  {
   "cell_type": "markdown",
   "id": "84ef073c-b29a-4353-9ff3-f691e7ca38c1",
   "metadata": {},
   "source": [
    "                                            THANK YOU"
   ]
  }
 ],
 "metadata": {
  "kernelspec": {
   "display_name": "Python 3 (ipykernel)",
   "language": "python",
   "name": "python3"
  },
  "language_info": {
   "codemirror_mode": {
    "name": "ipython",
    "version": 3
   },
   "file_extension": ".py",
   "mimetype": "text/x-python",
   "name": "python",
   "nbconvert_exporter": "python",
   "pygments_lexer": "ipython3",
   "version": "3.10.12"
  }
 },
 "nbformat": 4,
 "nbformat_minor": 5
}
